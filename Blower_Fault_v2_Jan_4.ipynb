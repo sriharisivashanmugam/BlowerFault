{
  "nbformat": 4,
  "nbformat_minor": 0,
  "metadata": {
    "colab": {
      "provenance": [],
      "authorship_tag": "ABX9TyOHMnXGm3sD6WnkcPLPRiu4",
      "include_colab_link": true
    },
    "kernelspec": {
      "name": "python3",
      "display_name": "Python 3"
    },
    "language_info": {
      "name": "python"
    }
  },
  "cells": [
    {
      "cell_type": "markdown",
      "metadata": {
        "id": "view-in-github",
        "colab_type": "text"
      },
      "source": [
        "<a href=\"https://colab.research.google.com/github/sriharisivashanmugam/BlowerFault/blob/main/Blower_Fault_v2_Jan_4.ipynb\" target=\"_parent\"><img src=\"https://colab.research.google.com/assets/colab-badge.svg\" alt=\"Open In Colab\"/></a>"
      ]
    },
    {
      "cell_type": "markdown",
      "source": [
        "For every heater, regardless of period of data available, do feature engineering, normalize them temporally by period of data available and have 2 clusters faulty/non-fauly, analyze the two clusters for significant differences and try predicting new heaters in the clusters."
      ],
      "metadata": {
        "id": "9SjSeH6VqsS5"
      }
    },
    {
      "cell_type": "code",
      "execution_count": 1,
      "metadata": {
        "id": "1rzYuPe_nzYs"
      },
      "outputs": [],
      "source": [
        "import pandas as pd\n",
        "import numpy as np\n",
        "import seaborn as sns"
      ]
    },
    {
      "cell_type": "code",
      "source": [
        "def had_fault(data):\n",
        "  pass\n",
        "\n",
        "def number_of_unique_faults(data):\n",
        "  pass\n",
        "\n",
        "def get_stats(data):\n",
        "  pass\n",
        "\n",
        "def get_agg(data):\n",
        "  pass\n",
        "\n"
      ],
      "metadata": {
        "id": "S_etYwwMo1Ja"
      },
      "execution_count": null,
      "outputs": []
    }
  ]
}