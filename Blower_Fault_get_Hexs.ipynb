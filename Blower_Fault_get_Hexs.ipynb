{
  "nbformat": 4,
  "nbformat_minor": 0,
  "metadata": {
    "colab": {
      "provenance": [],
      "mount_file_id": "1dNPzvV8JoM7w53llx0NaBvKq1MzBgSmI",
      "authorship_tag": "ABX9TyM7zVsWXUCKw6vK4McJ+4h4",
      "include_colab_link": true
    },
    "kernelspec": {
      "name": "python3",
      "display_name": "Python 3"
    },
    "language_info": {
      "name": "python"
    }
  },
  "cells": [
    {
      "cell_type": "markdown",
      "metadata": {
        "id": "view-in-github",
        "colab_type": "text"
      },
      "source": [
        "<a href=\"https://colab.research.google.com/github/sriharisivashanmugam/BlowerFault/blob/main/Blower_Fault_get_Hexs.ipynb\" target=\"_parent\"><img src=\"https://colab.research.google.com/assets/colab-badge.svg\" alt=\"Open In Colab\"/></a>"
      ]
    },
    {
      "cell_type": "markdown",
      "source": [
        "For every heater, regardless of period of data available, do feature engineering, normalize them temporally by period of data available and have 2 clusters faulty/non-fauly, analyze the two clusters for significant differences and try predicting new heaters in the clusters."
      ],
      "metadata": {
        "id": "9SjSeH6VqsS5"
      }
    },
    {
      "cell_type": "code",
      "execution_count": null,
      "metadata": {
        "id": "1rzYuPe_nzYs"
      },
      "outputs": [],
      "source": [
        "import pandas as pd\n",
        "import numpy as np\n",
        "import seaborn as sns\n",
        "import os"
      ]
    },
    {
      "cell_type": "code",
      "source": [
        "temp = pd.read_csv('/content/data.csv') #from admin dashboard"
      ],
      "metadata": {
        "id": "8189ZdgslnY8"
      },
      "execution_count": null,
      "outputs": []
    },
    {
      "cell_type": "code",
      "source": [
        "temp[temp['Error']=='Blower Fault']['ThingName']"
      ],
      "metadata": {
        "colab": {
          "base_uri": "https://localhost:8080/"
        },
        "id": "4l_89I3hlrYr",
        "outputId": "8cb5f63a-4437-4cf8-ece4-e60941867630"
      },
      "execution_count": null,
      "outputs": [
        {
          "output_type": "execute_result",
          "data": {
            "text/plain": [
              "36      C2d0027000947363339343638\n",
              "46      C2e0047000547363339343638\n",
              "56      C40002a000247363339343638\n",
              "89      C190034000347363333343435\n",
              "93      C240027001347373336373936\n",
              "                  ...            \n",
              "1527    C2200550011504e5354303420\n",
              "1539    C360046001347393334363636\n",
              "1608    C3a0030000d47393334363636\n",
              "1623    C260028000d504e5354303420\n",
              "1664    C350041000947313037363132\n",
              "Name: ThingName, Length: 116, dtype: object"
            ]
          },
          "metadata": {},
          "execution_count": 5
        }
      ]
    },
    {
      "cell_type": "code",
      "source": [
        "import requests\n",
        "url = 'https://intellihot-prod.cloud.thingworx.com/Thingworx/Things/DataRetrieval/Services/getAllWaterHeaters'\n",
        "response = requests.put(url , headers={ 'Content-Type': 'application/json','Accept':'application/json','appKey': 'e2711a7a-b34d-4ba2-af08-a10cc8990706'})\n",
        "temp2=pd.DataFrame.from_dict(response.json()['rows'])"
      ],
      "metadata": {
        "id": "hA-KUTK1pUHZ"
      },
      "execution_count": null,
      "outputs": []
    },
    {
      "cell_type": "code",
      "source": [
        "temp2[temp2['name'].isin([i.lstrip(\"C\") for i in list(temp[temp['Error']=='Blower Fault']['ThingName'])])].columns"
      ],
      "metadata": {
        "colab": {
          "base_uri": "https://localhost:8080/"
        },
        "id": "vam3If9MmJtM",
        "outputId": "650738c4-561b-4ffa-b710-0e5cc5a95099"
      },
      "execution_count": null,
      "outputs": [
        {
          "output_type": "execute_result",
          "data": {
            "text/plain": [
              "Index(['name', 'category', 'thingTemplate', 'Address', 'ZipCode',\n",
              "       'NumberOfRooms', 'City', 'ApplicationType', 'State', 'CommonExhaust',\n",
              "       'FlowControl', 'Staging', 'FlowBoost', 'FluePipe',\n",
              "       'SettingsParametersString', 'FuelType', 'FlueTemperature',\n",
              "       'hasInternalFlowAlert', 'ManifoldOutletTemperature', 'BlowerPWM',\n",
              "       'BurnerStatus', 'OperationsParametersString', 'HexTemperature',\n",
              "       'FlowRate', 'DesiredTemperature', 'ManifoldInletTemperature',\n",
              "       'SerialNumber', 'visibleAlert', 'BlowerRPM', 'ModelInfo',\n",
              "       'RecircTemperature', 'SplCodesString', 'GasPressure',\n",
              "       'OutletTemperature', 'WaterHardness', 'InletTemperature',\n",
              "       'WaterPressure', 'FiringRate', 'PumpLife', 'BlowerHours',\n",
              "       'PerformanceHistoryString', 'ORingLife', 'TimeValveLife',\n",
              "       'GasValveLife', 'BlowerLife', 'FiringLife', 'PumpCount', 'GasValvePlot',\n",
              "       'PumpDate', 'ORingCount', 'PhotonVersion', 'DisplayVersion',\n",
              "       'PCBVersion', 'lastConnected', 'isConnected', 'SSID', 'ShipDate',\n",
              "       'SAModeOpParamsAggregateString', 'SAParams', 'Owner',\n",
              "       'RelatedSerialsForNeuron', 'CascadedSerialNumbers', 'IotSerialNumber',\n",
              "       'usageByDay_date', 'RelatedSerialNumbers', 'InstallationID',\n",
              "       'RelatedHeatExchangers', 'RelatedPhotons', 'MacAddress',\n",
              "       'InstallationNickName'],\n",
              "      dtype='object')"
            ]
          },
          "metadata": {},
          "execution_count": 7
        }
      ]
    },
    {
      "cell_type": "code",
      "source": [
        "list_of_serials = list(temp2[(temp2['name'].isin([i.lstrip(\"C\") for i in list(temp[temp['Error']=='Blower Fault']['ThingName'])]))&(temp2['ModelInfo']=='iQ1001')]['RelatedSerialNumbers'])"
      ],
      "metadata": {
        "id": "HFML47-9mUHz"
      },
      "execution_count": null,
      "outputs": []
    },
    {
      "cell_type": "code",
      "source": [
        "len(list_of_serials)"
      ],
      "metadata": {
        "colab": {
          "base_uri": "https://localhost:8080/"
        },
        "id": "XFCTD5EgrdCy",
        "outputId": "2bc9c5d6-f69b-4fc6-a0e8-bcfc0e738827"
      },
      "execution_count": null,
      "outputs": [
        {
          "output_type": "execute_result",
          "data": {
            "text/plain": [
              "19"
            ]
          },
          "metadata": {},
          "execution_count": 9
        }
      ]
    },
    {
      "cell_type": "code",
      "source": [
        "list_of_serials_extended = []\n",
        "for o in list_of_serials:\n",
        "  list_of_serials_extended.extend(o.split(\",\"))"
      ],
      "metadata": {
        "id": "C3Ypmi2KqPip"
      },
      "execution_count": null,
      "outputs": []
    },
    {
      "cell_type": "code",
      "source": [
        "list_of_hexs = []\n",
        "for i in list_of_serials_extended:\n",
        "  if len(i)>4:\n",
        "    list_of_hexs.append(i+\"_HEX_1\")\n",
        "    list_of_hexs.append(i+\"_HEX_2\")\n",
        "    list_of_hexs.append(i+\"_HEX_3\")\n",
        "    list_of_hexs.append(i+\"_HEX_4\")"
      ],
      "metadata": {
        "id": "Og2MJosUquEX"
      },
      "execution_count": null,
      "outputs": []
    },
    {
      "cell_type": "code",
      "source": [
        "list_of_hexs"
      ],
      "metadata": {
        "colab": {
          "base_uri": "https://localhost:8080/"
        },
        "id": "TZPDM-PYroFw",
        "outputId": "0859b339-fc62-462a-c943-399d4dbcbaee"
      },
      "execution_count": null,
      "outputs": [
        {
          "output_type": "execute_result",
          "data": {
            "text/plain": [
              "['iQ100110241866_HEX_1',\n",
              " 'iQ100110241866_HEX_2',\n",
              " 'iQ100110241866_HEX_3',\n",
              " 'iQ100110241866_HEX_4',\n",
              " 'iQ100101021861_HEX_1',\n",
              " 'iQ100101021861_HEX_2',\n",
              " 'iQ100101021861_HEX_3',\n",
              " 'iQ100101021861_HEX_4',\n",
              " 'iQ100101081865_HEX_1',\n",
              " 'iQ100101081865_HEX_2',\n",
              " 'iQ100101081865_HEX_3',\n",
              " 'iQ100101081865_HEX_4',\n",
              " 'iQ100101051864_HEX_1',\n",
              " 'iQ100101051864_HEX_2',\n",
              " 'iQ100101051864_HEX_3',\n",
              " 'iQ100101051864_HEX_4',\n",
              " 'iQ100106071844_HEX_1',\n",
              " 'iQ100106071844_HEX_2',\n",
              " 'iQ100106071844_HEX_3',\n",
              " 'iQ100106071844_HEX_4',\n",
              " 'iQ100106081845_HEX_1',\n",
              " 'iQ100106081845_HEX_2',\n",
              " 'iQ100106081845_HEX_3',\n",
              " 'iQ100106081845_HEX_4',\n",
              " 'iQ100109201840_HEX_1',\n",
              " 'iQ100109201840_HEX_2',\n",
              " 'iQ100109201840_HEX_3',\n",
              " 'iQ100109201840_HEX_4',\n",
              " 'iQ100108151811_HEX_1',\n",
              " 'iQ100108151811_HEX_2',\n",
              " 'iQ100108151811_HEX_3',\n",
              " 'iQ100108151811_HEX_4',\n",
              " 'iQ100104202108_HEX_1',\n",
              " 'iQ100104202108_HEX_2',\n",
              " 'iQ100104202108_HEX_3',\n",
              " 'iQ100104202108_HEX_4',\n",
              " 'iQ100104051807_HEX_1',\n",
              " 'iQ100104051807_HEX_2',\n",
              " 'iQ100104051807_HEX_3',\n",
              " 'iQ100104051807_HEX_4',\n",
              " 'iQ100104041804_HEX_1',\n",
              " 'iQ100104041804_HEX_2',\n",
              " 'iQ100104041804_HEX_3',\n",
              " 'iQ100104041804_HEX_4',\n",
              " 'iQ100104041805_HEX_1',\n",
              " 'iQ100104041805_HEX_2',\n",
              " 'iQ100104041805_HEX_3',\n",
              " 'iQ100104041805_HEX_4',\n",
              " 'iQ100104041806_HEX_1',\n",
              " 'iQ100104041806_HEX_2',\n",
              " 'iQ100104041806_HEX_3',\n",
              " 'iQ100104041806_HEX_4',\n",
              " 'iQ100105142074_HEX_1',\n",
              " 'iQ100105142074_HEX_2',\n",
              " 'iQ100105142074_HEX_3',\n",
              " 'iQ100105142074_HEX_4',\n",
              " 'iQ100105012068_HEX_1',\n",
              " 'iQ100105012068_HEX_2',\n",
              " 'iQ100105012068_HEX_3',\n",
              " 'iQ100105012068_HEX_4',\n",
              " 'iQ100102281891_HEX_1',\n",
              " 'iQ100102281891_HEX_2',\n",
              " 'iQ100102281891_HEX_3',\n",
              " 'iQ100102281891_HEX_4',\n",
              " 'iQ100108301830_HEX_1',\n",
              " 'iQ100108301830_HEX_2',\n",
              " 'iQ100108301830_HEX_3',\n",
              " 'iQ100108301830_HEX_4',\n",
              " 'iQ100112191912_HEX_1',\n",
              " 'iQ100112191912_HEX_2',\n",
              " 'iQ100112191912_HEX_3',\n",
              " 'iQ100112191912_HEX_4',\n",
              " 'iQ100112161907_HEX_1',\n",
              " 'iQ100112161907_HEX_2',\n",
              " 'iQ100112161907_HEX_3',\n",
              " 'iQ100112161907_HEX_4',\n",
              " 'iQ100110181750_HEX_1',\n",
              " 'iQ100110181750_HEX_2',\n",
              " 'iQ100110181750_HEX_3',\n",
              " 'iQ100110181750_HEX_4',\n",
              " 'iQ100110121749_HEX_1',\n",
              " 'iQ100110121749_HEX_2',\n",
              " 'iQ100110121749_HEX_3',\n",
              " 'iQ100110121749_HEX_4',\n",
              " 'iQ100108281950_HEX_1',\n",
              " 'iQ100108281950_HEX_2',\n",
              " 'iQ100108281950_HEX_3',\n",
              " 'iQ100108281950_HEX_4',\n",
              " 'iQ100111162132_HEX_1',\n",
              " 'iQ100111162132_HEX_2',\n",
              " 'iQ100111162132_HEX_3',\n",
              " 'iQ100111162132_HEX_4',\n",
              " 'iQ100104272063_HEX_1',\n",
              " 'iQ100104272063_HEX_2',\n",
              " 'iQ100104272063_HEX_3',\n",
              " 'iQ100104272063_HEX_4',\n",
              " 'iQ100105182075_HEX_1',\n",
              " 'iQ100105182075_HEX_2',\n",
              " 'iQ100105182075_HEX_3',\n",
              " 'iQ100105182075_HEX_4',\n",
              " 'iQ100102062041_HEX_1',\n",
              " 'iQ100102062041_HEX_2',\n",
              " 'iQ100102062041_HEX_3',\n",
              " 'iQ100102062041_HEX_4',\n",
              " 'iQ100108271948_HEX_1',\n",
              " 'iQ100108271948_HEX_2',\n",
              " 'iQ100108271948_HEX_3',\n",
              " 'iQ100108271948_HEX_4',\n",
              " 'iQ150108141833_HEX_1',\n",
              " 'iQ150108141833_HEX_2',\n",
              " 'iQ150108141833_HEX_3',\n",
              " 'iQ150108141833_HEX_4',\n",
              " 'iQ100110301875_HEX_1',\n",
              " 'iQ100110301875_HEX_2',\n",
              " 'iQ100110301875_HEX_3',\n",
              " 'iQ100110301875_HEX_4',\n",
              " 'iQ100110301873_HEX_1',\n",
              " 'iQ100110301873_HEX_2',\n",
              " 'iQ100110301873_HEX_3',\n",
              " 'iQ100110301873_HEX_4',\n",
              " 'iQ100104291976_HEX_1',\n",
              " 'iQ100104291976_HEX_2',\n",
              " 'iQ100104291976_HEX_3',\n",
              " 'iQ100104291976_HEX_4']"
            ]
          },
          "metadata": {},
          "execution_count": 26
        }
      ]
    },
    {
      "cell_type": "code",
      "source": [],
      "metadata": {
        "id": "khVvviMctRb6"
      },
      "execution_count": null,
      "outputs": []
    }
  ]
}